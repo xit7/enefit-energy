version https://git-lfs.github.com/spec/v1
oid sha256:69ead748cb25c4b48d7426cee72a5e7b98035f465b34f8ecfe7bc2c10824d0b3
size 290891773
