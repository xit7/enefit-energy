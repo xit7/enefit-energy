version https://git-lfs.github.com/spec/v1
oid sha256:4507d209f14ebb23ee5d7e30a3bb4774be36e168c140257b8570d1de33399b86
size 290891772
